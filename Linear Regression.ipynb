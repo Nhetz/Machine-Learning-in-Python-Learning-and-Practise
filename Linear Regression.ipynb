{
 "cells": [
  {
   "cell_type": "code",
   "execution_count": 1,
   "metadata": {},
   "outputs": [
    {
     "name": "stdout",
     "output_type": "stream",
     "text": [
      "[1400, 1600, 1700, 1875, 1100, 1550, 2350, 2450, 1425, 1700]\n",
      "[[1400]\n",
      " [1600]\n",
      " [1700]\n",
      " [1875]\n",
      " [1100]\n",
      " [1550]\n",
      " [2350]\n",
      " [2450]\n",
      " [1425]\n",
      " [1700]]\n"
     ]
    }
   ],
   "source": [
    "import matplotlib.pyplot as plt\n",
    "import numpy as np\n",
    "from sklearn import datasets,linear_model\n",
    "\n",
    "house_price =[245,312,279,308,199,219,405,324,319,255]\n",
    "size=[1400, 1600, 1700, 1875, 1100, 1550, 2350, 2450, 1425, 1700]\n",
    "\n",
    "size2= np.array(size).reshape((-1,1))\n",
    "print(size)\n",
    "print(size2)"
   ]
  },
  {
   "cell_type": "code",
   "execution_count": 2,
   "metadata": {},
   "outputs": [
    {
     "name": "stdout",
     "output_type": "stream",
     "text": [
      "Coefficient:\n",
      " [0.10976774]\n",
      "Intercept:\n",
      " 98.24832962138092\n"
     ]
    }
   ],
   "source": [
    "rgr = linear_model.LinearRegression()\n",
    "rgr.fit(size2,house_price)\n",
    "print(\"Coefficient:\\n\",rgr.coef_)\n",
    "print(\"Intercept:\\n\",rgr.intercept_)"
   ]
  },
  {
   "cell_type": "code",
   "execution_count": 3,
   "metadata": {},
   "outputs": [
    {
     "name": "stdout",
     "output_type": "stream",
     "text": [
      "[251.92316258]\n"
     ]
    }
   ],
   "source": [
    "size_new =1400\n",
    "price =rgr.predict([[size_new]])\n",
    "print(price)"
   ]
  },
  {
   "cell_type": "code",
   "execution_count": 5,
   "metadata": {},
   "outputs": [
    {
     "data": {
      "image/png": "[encoded data removed]",
      "text/plain": [
       "<Figure size 432x288 with 1 Axes>"
      ]
     },
     "metadata": {
      "needs_background": "light"
     },
     "output_type": "display_data"
    }
   ],
   "source": [
    "def graph(formular,x_range):\n",
    "    x = np.array(x_range)\n",
    "    y =eval(formular)\n",
    "    plt.plot(x,y)\n",
    "graph(\"rgr.coef_*x + rgr.intercept_\",(1000,2700))\n",
    "plt.scatter(size,house_price,color =\"blue\")\n",
    "plt.ylabel(\"Price of House\")\n",
    "plt.xlabel(\"Size of House\")\n",
    "plt.show()"
   ]
  },
  {
   "cell_type": "code",
   "execution_count": null,
   "metadata": {},
   "outputs": [],
   "source": []
  }
 ],
 "metadata": {
  "kernelspec": {
   "display_name": "Python 3",
   "language": "python",
   "name": "python3"
  },
  "language_info": {
   "codemirror_mode": {
    "name": "ipython",
    "version": 3
   },
   "file_extension": ".py",
   "mimetype": "text/x-python",
   "name": "python",
   "nbconvert_exporter": "python",
   "pygments_lexer": "ipython3",
   "version": "3.7.6"
  }
 },
 "nbformat": 4,
 "nbformat_minor": 4
}
